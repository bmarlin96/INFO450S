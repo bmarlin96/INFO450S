{
  "nbformat": 4,
  "nbformat_minor": 0,
  "metadata": {
    "colab": {
      "provenance": []
    },
    "kernelspec": {
      "name": "python3",
      "display_name": "Python 3"
    },
    "language_info": {
      "name": "python"
    }
  },
  "cells": [
    {
      "cell_type": "code",
      "execution_count": null,
      "metadata": {
        "id": "xGjlkMcFA9iT"
      },
      "outputs": [],
      "source": []
    },
    {
      "cell_type": "markdown",
      "source": [
        "## I wrote this in markdown\n",
        "This is the first day of INFO 450.\n",
        "# It is fun!!!\n",
        "$$ \\frac{d}{dx}x^2=2x$$\n",
        "🤓🐧🐧🐧🐧🐧🐧"
      ],
      "metadata": {
        "id": "jfDgFb-6B8jt"
      }
    },
    {
      "cell_type": "code",
      "source": [
        "print(\"Hello World\")"
      ],
      "metadata": {
        "colab": {
          "base_uri": "https://localhost:8080/"
        },
        "id": "4It9sbI1Csf9",
        "outputId": "1e247d7a-1776-435b-b8dc-d9c41de5ce02"
      },
      "execution_count": 3,
      "outputs": [
        {
          "output_type": "stream",
          "name": "stdout",
          "text": [
            "Hello World\n"
          ]
        }
      ]
    },
    {
      "cell_type": "markdown",
      "source": [
        "***Variables*** are the basic concept in code. It is just a container  for ONE piece of Data."
      ],
      "metadata": {
        "id": "A_OQD5H-C9jL"
      }
    },
    {
      "cell_type": "code",
      "source": [
        "age=50\n",
        "student_age=18 #snake case\n",
        "studentAge=23 #camel case\n"
      ],
      "metadata": {
        "id": "3AzR02jdDOJ3"
      },
      "execution_count": 10,
      "outputs": []
    },
    {
      "cell_type": "markdown",
      "source": [
        "About Variables\n",
        "* Start with lower case letter\n",
        "* can only contain letters, numbers or _\n",
        "* be descriptive\n",
        "* case and spelling matter"
      ],
      "metadata": {
        "id": "o73u_sImEKI8"
      }
    },
    {
      "cell_type": "code",
      "source": [
        "student_age=21\n",
        "student_Age=21"
      ],
      "metadata": {
        "id": "b9SoDBOSD_YV"
      },
      "execution_count": 13,
      "outputs": []
    },
    {
      "cell_type": "markdown",
      "source": [
        "Types of Variables\n",
        "* int (Whole Number) 28 bytes\n",
        "* float (decimals) 28 bytes\n",
        "* string (str) characters - letters and words\n",
        "* boolean (bool) True False"
      ],
      "metadata": {
        "id": "gT_rw-MEEqSw"
      }
    },
    {
      "cell_type": "code",
      "source": [
        "name=\"Alice\"\n",
        "is_student=True"
      ],
      "metadata": {
        "id": "soak0lJNEuZj"
      },
      "execution_count": 22,
      "outputs": []
    },
    {
      "cell_type": "code",
      "source": [
        "type(name)\n",
        "type(age)\n",
        "type(is_student)"
      ],
      "metadata": {
        "colab": {
          "base_uri": "https://localhost:8080/"
        },
        "id": "HI6B9cAYFeji",
        "outputId": "52708def-afa7-455a-fa5f-bb8fbfcd5e25"
      },
      "execution_count": 23,
      "outputs": [
        {
          "output_type": "execute_result",
          "data": {
            "text/plain": [
              "bool"
            ]
          },
          "metadata": {},
          "execution_count": 23
        }
      ]
    },
    {
      "cell_type": "code",
      "source": [
        "print(name, age, is_student)"
      ],
      "metadata": {
        "colab": {
          "base_uri": "https://localhost:8080/"
        },
        "id": "lNbNQOkIFmii",
        "outputId": "e50f058b-f5f9-4019-d204-b14ac3d20ab1"
      },
      "execution_count": 25,
      "outputs": [
        {
          "output_type": "stream",
          "name": "stdout",
          "text": [
            "Alice 50 True\n"
          ]
        }
      ]
    },
    {
      "cell_type": "markdown",
      "source": [
        "Input Statements"
      ],
      "metadata": {
        "id": "NR4zXGLJGaRL"
      }
    },
    {
      "cell_type": "code",
      "source": [
        "new_name=input(\"enter your name\")\n",
        "new_age=input(\"enter your age\")"
      ],
      "metadata": {
        "colab": {
          "base_uri": "https://localhost:8080/"
        },
        "id": "uO5lnMUfGYZW",
        "outputId": "c76741bc-11e5-4e07-81fa-39b39a3f38d0"
      },
      "execution_count": 27,
      "outputs": [
        {
          "name": "stdout",
          "output_type": "stream",
          "text": [
            "enter your nameBen\n",
            "enter your age50\n"
          ]
        }
      ]
    },
    {
      "cell_type": "markdown",
      "source": [
        "**Printing** and concatenating"
      ],
      "metadata": {
        "id": "zgvu5ZcNG7Pe"
      }
    },
    {
      "cell_type": "code",
      "source": [
        "print(new_name, \"is\", new_age, \"years old\")"
      ],
      "metadata": {
        "colab": {
          "base_uri": "https://localhost:8080/"
        },
        "id": "mnMZCQ9qG9Dx",
        "outputId": "64fa917b-1792-4c19-e787-a579220278b5"
      },
      "execution_count": 28,
      "outputs": [
        {
          "output_type": "stream",
          "name": "stdout",
          "text": [
            "Ben is 50 years old\n"
          ]
        }
      ]
    },
    {
      "cell_type": "markdown",
      "source": [
        "f print uses brackets"
      ],
      "metadata": {
        "id": "4T41LOVoHf3M"
      }
    },
    {
      "cell_type": "code",
      "source": [
        "print(f\"my name is {new_name} and I am {new_age} years old\")"
      ],
      "metadata": {
        "colab": {
          "base_uri": "https://localhost:8080/"
        },
        "id": "eNlNyFTOHfET",
        "outputId": "2668f7c5-679a-423e-aff3-93823bc89490"
      },
      "execution_count": 29,
      "outputs": [
        {
          "output_type": "stream",
          "name": "stdout",
          "text": [
            "my name is Ben and I am 50 years old\n"
          ]
        }
      ]
    },
    {
      "cell_type": "markdown",
      "source": [
        "Basic Operators"
      ],
      "metadata": {
        "id": "bvrKblzdH_g_"
      }
    },
    {
      "cell_type": "code",
      "source": [
        "x=10\n",
        "y=3"
      ],
      "metadata": {
        "id": "b3QJ5KaPIBiU"
      },
      "execution_count": 30,
      "outputs": []
    },
    {
      "cell_type": "code",
      "source": [
        "x+y\n",
        "x/y\n",
        "x**y # raise to a power\n",
        "x%y #mod - provides the remainder - is a number odd or even\n",
        "y%2"
      ],
      "metadata": {
        "colab": {
          "base_uri": "https://localhost:8080/"
        },
        "id": "M7h_Z92iIGD6",
        "outputId": "db0a7b72-28c6-4cfa-c5c7-b905907c8402"
      },
      "execution_count": 38,
      "outputs": [
        {
          "output_type": "execute_result",
          "data": {
            "text/plain": [
              "1"
            ]
          },
          "metadata": {},
          "execution_count": 38
        }
      ]
    },
    {
      "cell_type": "code",
      "source": [
        "print(f\"x is {x} and y is {y} so x mod y is {x%y}\")"
      ],
      "metadata": {
        "colab": {
          "base_uri": "https://localhost:8080/"
        },
        "id": "nbOshhp_IujA",
        "outputId": "2cc6dbcd-bd7e-49ff-dae4-143e64845498"
      },
      "execution_count": 39,
      "outputs": [
        {
          "output_type": "stream",
          "name": "stdout",
          "text": [
            "x is 10 and y is 3 so x mod y is 1\n"
          ]
        }
      ]
    },
    {
      "cell_type": "code",
      "source": [
        "z=x**y"
      ],
      "metadata": {
        "id": "o342Y79EI96I"
      },
      "execution_count": 40,
      "outputs": []
    },
    {
      "cell_type": "code",
      "source": [
        "z"
      ],
      "metadata": {
        "colab": {
          "base_uri": "https://localhost:8080/"
        },
        "id": "wxfx1n9PJC_a",
        "outputId": "1945fba7-1acb-4f3d-8882-0935f57f9a12"
      },
      "execution_count": 41,
      "outputs": [
        {
          "output_type": "execute_result",
          "data": {
            "text/plain": [
              "1000"
            ]
          },
          "metadata": {},
          "execution_count": 41
        }
      ]
    }
  ]
}
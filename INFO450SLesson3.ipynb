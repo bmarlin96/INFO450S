{
  "nbformat": 4,
  "nbformat_minor": 0,
  "metadata": {
    "colab": {
      "provenance": [],
      "authorship_tag": "ABX9TyNsvmMh79EZQ85Eo6msvBBZ",
      "include_colab_link": true
    },
    "kernelspec": {
      "name": "python3",
      "display_name": "Python 3"
    },
    "language_info": {
      "name": "python"
    }
  },
  "cells": [
    {
      "cell_type": "markdown",
      "metadata": {
        "id": "view-in-github",
        "colab_type": "text"
      },
      "source": [
        "<a href=\"https://colab.research.google.com/github/bmarlin96/INFO450S/blob/main/INFO450SLesson3.ipynb\" target=\"_parent\"><img src=\"https://colab.research.google.com/assets/colab-badge.svg\" alt=\"Open In Colab\"/></a>"
      ]
    },
    {
      "cell_type": "code",
      "execution_count": null,
      "metadata": {
        "id": "YLlg9IBS_HmA"
      },
      "outputs": [],
      "source": []
    },
    {
      "cell_type": "markdown",
      "source": [
        "## Python Lists - ordered and mutable collection of items"
      ],
      "metadata": {
        "id": "zV7IEE3s_Ks3"
      }
    },
    {
      "cell_type": "code",
      "source": [
        "fruits=[\"apple\",\"banana\",\"cherry\"] #list called fruits\n",
        "print(fruits)"
      ],
      "metadata": {
        "colab": {
          "base_uri": "https://localhost:8080/"
        },
        "id": "1w1URyfj_TIa",
        "outputId": "9078eff1-df6f-402f-e9a4-4ee6c296b5ec"
      },
      "execution_count": 3,
      "outputs": [
        {
          "output_type": "stream",
          "name": "stdout",
          "text": [
            "['apple', 'banana', 'cherry']\n"
          ]
        }
      ]
    },
    {
      "cell_type": "code",
      "source": [
        "fruits[0]"
      ],
      "metadata": {
        "colab": {
          "base_uri": "https://localhost:8080/",
          "height": 35
        },
        "id": "C1ddJQCc_o56",
        "outputId": "d1ec531c-8b78-4341-a76a-4575999e5a31"
      },
      "execution_count": 4,
      "outputs": [
        {
          "output_type": "execute_result",
          "data": {
            "text/plain": [
              "'apple'"
            ],
            "application/vnd.google.colaboratory.intrinsic+json": {
              "type": "string"
            }
          },
          "metadata": {},
          "execution_count": 4
        }
      ]
    },
    {
      "cell_type": "code",
      "source": [
        "fruits[1:3]"
      ],
      "metadata": {
        "colab": {
          "base_uri": "https://localhost:8080/"
        },
        "id": "AYGcLkUt_wAK",
        "outputId": "5b739b48-d9b7-4844-d20e-f592ef16e93b"
      },
      "execution_count": 6,
      "outputs": [
        {
          "output_type": "execute_result",
          "data": {
            "text/plain": [
              "['banana', 'cherry']"
            ]
          },
          "metadata": {},
          "execution_count": 6
        }
      ]
    },
    {
      "cell_type": "code",
      "source": [
        "for fruit in fruits:\n",
        "  print(fruit)"
      ],
      "metadata": {
        "colab": {
          "base_uri": "https://localhost:8080/"
        },
        "id": "DaWLnBMe_5lb",
        "outputId": "1396165f-08bd-40dd-cd01-871cad1e42ff"
      },
      "execution_count": 7,
      "outputs": [
        {
          "output_type": "stream",
          "name": "stdout",
          "text": [
            "apple\n",
            "banana\n",
            "cherry\n"
          ]
        }
      ]
    },
    {
      "cell_type": "markdown",
      "source": [
        "## Methods are functions specified for a certian object"
      ],
      "metadata": {
        "id": "VpZnTvpyAI2g"
      }
    },
    {
      "cell_type": "code",
      "source": [
        "#append\n",
        "fruits.append(\"grape\")"
      ],
      "metadata": {
        "id": "2MmYBzSyARhz"
      },
      "execution_count": 8,
      "outputs": []
    },
    {
      "cell_type": "code",
      "source": [
        "fruits"
      ],
      "metadata": {
        "colab": {
          "base_uri": "https://localhost:8080/"
        },
        "id": "KbMvIquBAjfL",
        "outputId": "2dfb5f4b-8bad-46a1-dff8-3ccf60b3413d"
      },
      "execution_count": 9,
      "outputs": [
        {
          "output_type": "execute_result",
          "data": {
            "text/plain": [
              "['apple', 'banana', 'cherry', 'grape']"
            ]
          },
          "metadata": {},
          "execution_count": 9
        }
      ]
    },
    {
      "cell_type": "code",
      "source": [
        "fruits.remove('banana')"
      ],
      "metadata": {
        "id": "lMeOos5sAseJ"
      },
      "execution_count": 10,
      "outputs": []
    },
    {
      "cell_type": "code",
      "source": [
        "numbers=[1,2,3,5,4]\n",
        "numbers.sort()\n",
        "numbers"
      ],
      "metadata": {
        "colab": {
          "base_uri": "https://localhost:8080/"
        },
        "id": "pCBf1Q44AxVr",
        "outputId": "0d053b91-4aae-4e6b-9f88-0c8630859c61"
      },
      "execution_count": 17,
      "outputs": [
        {
          "output_type": "execute_result",
          "data": {
            "text/plain": [
              "[1, 2, 3, 4, 5]"
            ]
          },
          "metadata": {},
          "execution_count": 17
        }
      ]
    },
    {
      "cell_type": "code",
      "source": [
        "sum(numbers)"
      ],
      "metadata": {
        "colab": {
          "base_uri": "https://localhost:8080/"
        },
        "id": "wzRpMgBEBTUC",
        "outputId": "46103ef5-83a9-448b-c8b8-8b87be14fcb4"
      },
      "execution_count": 18,
      "outputs": [
        {
          "output_type": "execute_result",
          "data": {
            "text/plain": [
              "15"
            ]
          },
          "metadata": {},
          "execution_count": 18
        }
      ]
    },
    {
      "cell_type": "markdown",
      "source": [
        "## Using Split with text"
      ],
      "metadata": {
        "id": "WPjxnN0gBiKB"
      }
    },
    {
      "cell_type": "code",
      "source": [
        "sentence=\" my favorite food is an apple\"\n",
        "words=sentence.split()\n",
        "words"
      ],
      "metadata": {
        "colab": {
          "base_uri": "https://localhost:8080/"
        },
        "id": "qOSjhKw-BlMO",
        "outputId": "1a641386-24a3-48c3-edb3-d5287ece949d"
      },
      "execution_count": 26,
      "outputs": [
        {
          "output_type": "execute_result",
          "data": {
            "text/plain": [
              "['my', 'favorite', 'food', 'is', 'an', 'apple']"
            ]
          },
          "metadata": {},
          "execution_count": 26
        }
      ]
    },
    {
      "cell_type": "code",
      "source": [
        "words"
      ],
      "metadata": {
        "colab": {
          "base_uri": "https://localhost:8080/"
        },
        "id": "AJjeSpp7EA1J",
        "outputId": "9f862b7c-062a-4b9b-a9a2-00b5afdbd801"
      },
      "execution_count": 34,
      "outputs": [
        {
          "output_type": "execute_result",
          "data": {
            "text/plain": [
              "['my', 'favorite', 'food', 'is', 'an', 'apple']"
            ]
          },
          "metadata": {},
          "execution_count": 34
        }
      ]
    },
    {
      "cell_type": "code",
      "source": [
        "words[5]=\"pizza\"\n",
        "words"
      ],
      "metadata": {
        "colab": {
          "base_uri": "https://localhost:8080/"
        },
        "id": "Xd7dKDM5EFOx",
        "outputId": "1d856637-1493-406f-91ef-a50fa9de4157"
      },
      "execution_count": 35,
      "outputs": [
        {
          "output_type": "execute_result",
          "data": {
            "text/plain": [
              "['my', 'favorite', 'food', 'is', 'an', 'pizza']"
            ]
          },
          "metadata": {},
          "execution_count": 35
        }
      ]
    },
    {
      "cell_type": "code",
      "source": [
        "csv_line=\"John, 25, Engineer\"\n",
        "my_list=csv_line.split(\",\")\n",
        "my_list[1]"
      ],
      "metadata": {
        "colab": {
          "base_uri": "https://localhost:8080/",
          "height": 35
        },
        "id": "zS7pGrrECJw1",
        "outputId": "d199cec8-3976-49ca-e825-4e2c599eadb5"
      },
      "execution_count": 30,
      "outputs": [
        {
          "output_type": "execute_result",
          "data": {
            "text/plain": [
              "' 25'"
            ],
            "application/vnd.google.colaboratory.intrinsic+json": {
              "type": "string"
            }
          },
          "metadata": {},
          "execution_count": 30
        }
      ]
    },
    {
      "cell_type": "code",
      "source": [
        "my_word=\"banana\"\n",
        "list(my_word)"
      ],
      "metadata": {
        "colab": {
          "base_uri": "https://localhost:8080/"
        },
        "id": "P3H9am9WDEia",
        "outputId": "f292674b-8787-446d-87d1-a80fbca97388"
      },
      "execution_count": 32,
      "outputs": [
        {
          "output_type": "execute_result",
          "data": {
            "text/plain": [
              "['b', 'a', 'n', 'a', 'n', 'a']"
            ]
          },
          "metadata": {},
          "execution_count": 32
        }
      ]
    },
    {
      "cell_type": "markdown",
      "source": [
        "## Tuples ordered. immutable, collection () commas"
      ],
      "metadata": {
        "id": "wLymy7clDlUS"
      }
    },
    {
      "cell_type": "code",
      "source": [
        "coordinates=(10.0,20.5)\n",
        "coordinates[0]"
      ],
      "metadata": {
        "colab": {
          "base_uri": "https://localhost:8080/"
        },
        "id": "XbS14TC1Dpk7",
        "outputId": "a5a58db9-af93-4e51-a3e4-9665a5e95757"
      },
      "execution_count": 33,
      "outputs": [
        {
          "output_type": "execute_result",
          "data": {
            "text/plain": [
              "10.0"
            ]
          },
          "metadata": {},
          "execution_count": 33
        }
      ]
    },
    {
      "cell_type": "code",
      "source": [
        "coordinates[0]=12"
      ],
      "metadata": {
        "colab": {
          "base_uri": "https://localhost:8080/",
          "height": 141
        },
        "id": "I7AxC1nBESEr",
        "outputId": "21a0d186-94cd-44b5-ad65-239b405798e4"
      },
      "execution_count": 36,
      "outputs": [
        {
          "output_type": "error",
          "ename": "TypeError",
          "evalue": "'tuple' object does not support item assignment",
          "traceback": [
            "\u001b[0;31m---------------------------------------------------------------------------\u001b[0m",
            "\u001b[0;31mTypeError\u001b[0m                                 Traceback (most recent call last)",
            "\u001b[0;32m<ipython-input-36-8351eb41904a>\u001b[0m in \u001b[0;36m<cell line: 0>\u001b[0;34m()\u001b[0m\n\u001b[0;32m----> 1\u001b[0;31m \u001b[0mcoordinates\u001b[0m\u001b[0;34m[\u001b[0m\u001b[0;36m0\u001b[0m\u001b[0;34m]\u001b[0m\u001b[0;34m=\u001b[0m\u001b[0;36m12\u001b[0m\u001b[0;34m\u001b[0m\u001b[0;34m\u001b[0m\u001b[0m\n\u001b[0m",
            "\u001b[0;31mTypeError\u001b[0m: 'tuple' object does not support item assignment"
          ]
        }
      ]
    },
    {
      "cell_type": "markdown",
      "source": [
        "## Dictionaries: collection of key-value pairs"
      ],
      "metadata": {
        "id": "Qpz7jyGcEmwG"
      }
    },
    {
      "cell_type": "code",
      "source": [
        "student={\"name\":\"Alice\",\"age\":20,\"grade\":\"A\"}\n",
        "student[\"name\"]\n",
        "student.keys()\n",
        "student.values()\n",
        "student.items()"
      ],
      "metadata": {
        "colab": {
          "base_uri": "https://localhost:8080/"
        },
        "id": "B4_iWAKaEltp",
        "outputId": "781f8a89-65dd-4907-89d0-51d3624d4abc"
      },
      "execution_count": 43,
      "outputs": [
        {
          "output_type": "execute_result",
          "data": {
            "text/plain": [
              "dict_items([('name', 'Alice'), ('age', 20), ('grade', 'A')])"
            ]
          },
          "metadata": {},
          "execution_count": 43
        }
      ]
    },
    {
      "cell_type": "code",
      "source": [
        "location_data={\n",
        "    (37.7749,-122.4129):\"San Fransisco\",\n",
        "    (40.7,-74.006):\"New York\"\n",
        "}\n"
      ],
      "metadata": {
        "colab": {
          "base_uri": "https://localhost:8080/"
        },
        "id": "NoCwCaKbF1DB",
        "outputId": "ffff7058-43e9-4020-9e7b-309aaefca816"
      },
      "execution_count": 45,
      "outputs": [
        {
          "output_type": "execute_result",
          "data": {
            "text/plain": [
              "dict_keys([(37.7749, -122.4129), (40.7, -74.006)])"
            ]
          },
          "metadata": {},
          "execution_count": 45
        }
      ]
    },
    {
      "cell_type": "markdown",
      "source": [
        "Add to a dictionary (Richmond)"
      ],
      "metadata": {
        "id": "Mo504rVAGjZs"
      }
    },
    {
      "cell_type": "code",
      "source": [
        "location_data[(37.54,-77.43)]=\"Richmond\""
      ],
      "metadata": {
        "id": "pwc1aBMVGiUB"
      },
      "execution_count": 46,
      "outputs": []
    },
    {
      "cell_type": "code",
      "source": [
        "location_data"
      ],
      "metadata": {
        "colab": {
          "base_uri": "https://localhost:8080/"
        },
        "id": "CeXGaF0dG2m4",
        "outputId": "7f7fede8-7d9d-4393-9d72-0e9e4cf4609f"
      },
      "execution_count": 47,
      "outputs": [
        {
          "output_type": "execute_result",
          "data": {
            "text/plain": [
              "{(37.7749, -122.4129): 'San Fransisco',\n",
              " (40.7, -74.006): 'New York',\n",
              " (37.54, -77.43): 'Richmond'}"
            ]
          },
          "metadata": {},
          "execution_count": 47
        }
      ]
    },
    {
      "cell_type": "markdown",
      "source": [
        "## List of Dictionaries and Nested Lists"
      ],
      "metadata": {
        "id": "jWegqXt2HPOx"
      }
    },
    {
      "cell_type": "code",
      "source": [
        "students=[{'name': 'Alice', 'age': 13, 'grades': [86, 75, 56], 'major': 'mathematics'},\n",
        " {'name': 'Bob',\n",
        "  'age': 22,\n",
        "  'grades': [78, 23, 90],\n",
        "  'major': 'Computer Science'},\n",
        " {'name': 'sara',\n",
        "  'age': 22,\n",
        "  'grades': [78, 23, 90],\n",
        "  'major': 'Computer Science'},\n",
        " {'name': 'Bob',\n",
        "  'age': 22,\n",
        "  'grades': [78, 23, 90],\n",
        "  'major': 'Computer Science'},\n",
        " {'name': 'Bobby',\n",
        "  'age': 22,\n",
        "  'grades': [78, 23, 90],\n",
        "  'major': 'Computer Science'}]"
      ],
      "metadata": {
        "id": "bAvFKQSnHO2J"
      },
      "execution_count": 48,
      "outputs": []
    },
    {
      "cell_type": "code",
      "source": [
        "students.append({'name':'Ben','age':25})"
      ],
      "metadata": {
        "id": "nCkEhFGXIq5v"
      },
      "execution_count": 54,
      "outputs": []
    },
    {
      "cell_type": "code",
      "source": [
        "students"
      ],
      "metadata": {
        "colab": {
          "base_uri": "https://localhost:8080/"
        },
        "id": "K93fKOHLI21n",
        "outputId": "ec828607-5327-4e6b-fbd5-7114e1eff4d0"
      },
      "execution_count": 55,
      "outputs": [
        {
          "output_type": "execute_result",
          "data": {
            "text/plain": [
              "[{'name': 'Alice', 'age': 13, 'grades': [86, 75, 56], 'major': 'mathematics'},\n",
              " {'name': 'Bob',\n",
              "  'age': 22,\n",
              "  'grades': [78, 23, 90],\n",
              "  'major': 'Computer Science'},\n",
              " {'name': 'sara',\n",
              "  'age': 22,\n",
              "  'grades': [78, 23, 90],\n",
              "  'major': 'Computer Science'},\n",
              " {'name': 'Bob',\n",
              "  'age': 22,\n",
              "  'grades': [78, 23, 90],\n",
              "  'major': 'Computer Science'},\n",
              " {'name': 'Bobby',\n",
              "  'age': 22,\n",
              "  'grades': [78, 23, 90],\n",
              "  'major': 'Computer Science'},\n",
              " {'name': 'Ben', 'age': 25}]"
            ]
          },
          "metadata": {},
          "execution_count": 55
        }
      ]
    },
    {
      "cell_type": "code",
      "source": [
        "students[1]['grades']"
      ],
      "metadata": {
        "colab": {
          "base_uri": "https://localhost:8080/"
        },
        "id": "8EFv3NnWH9OF",
        "outputId": "dcd2e0a8-6660-4d06-e8ca-de73e0371e00"
      },
      "execution_count": 53,
      "outputs": [
        {
          "output_type": "execute_result",
          "data": {
            "text/plain": [
              "[78, 23, 90]"
            ]
          },
          "metadata": {},
          "execution_count": 53
        }
      ]
    },
    {
      "cell_type": "markdown",
      "source": [
        "Analysis on Lists"
      ],
      "metadata": {
        "id": "3k0CU7_GJJO_"
      }
    },
    {
      "cell_type": "code",
      "source": [
        "data=[10,30,40,20,5]"
      ],
      "metadata": {
        "id": "E_a4riBZJLI-"
      },
      "execution_count": 57,
      "outputs": []
    },
    {
      "cell_type": "code",
      "source": [
        "print(\"Minimum:\",min(data))\n",
        "print(\"Maximum:\",max(data))\n",
        "print(\"Mean:\",sum(data)/len(data))"
      ],
      "metadata": {
        "colab": {
          "base_uri": "https://localhost:8080/"
        },
        "id": "i_4dVcCHJRA5",
        "outputId": "fd8d4d80-b829-43d0-a1b9-2c9fa5e24f4a"
      },
      "execution_count": 62,
      "outputs": [
        {
          "output_type": "stream",
          "name": "stdout",
          "text": [
            "Minimum: 5\n",
            "Maximum: 40\n",
            "Mean: 21.0\n"
          ]
        }
      ]
    },
    {
      "cell_type": "markdown",
      "source": [
        "Analysis on dictionaries"
      ],
      "metadata": {
        "id": "Q65Q8gzHKIn_"
      }
    },
    {
      "cell_type": "code",
      "source": [
        "data_dict={\n",
        "    \"Homer\":85,\n",
        "    \"Marge\":78,\n",
        "    \"Bart\":92,\n",
        "    \"Lisa\":88,\n",
        "    \"Maggie\":95\n",
        "}\n",
        "print(data_dict)"
      ],
      "metadata": {
        "colab": {
          "base_uri": "https://localhost:8080/"
        },
        "id": "eUM_ACPvKGFI",
        "outputId": "8f220794-2a6e-4779-b55c-159310f1aba0"
      },
      "execution_count": 65,
      "outputs": [
        {
          "output_type": "stream",
          "name": "stdout",
          "text": [
            "{'Homer': 85, 'Marge': 78, 'Bart': 92, 'Lisa': 88, 'Maggie': 95}\n"
          ]
        }
      ]
    },
    {
      "cell_type": "code",
      "source": [
        "values=list(data_dict.values())\n",
        "values\n",
        "print(\"Minimum:\",min(values))\n",
        "print(\"Maximum:\",max(values))\n",
        "print(\"Mean:\",sum(values)/len(values))"
      ],
      "metadata": {
        "colab": {
          "base_uri": "https://localhost:8080/"
        },
        "id": "1FkLhvijKbBK",
        "outputId": "b1cb66c7-4534-4e46-aec9-513e8519007a"
      },
      "execution_count": 67,
      "outputs": [
        {
          "output_type": "stream",
          "name": "stdout",
          "text": [
            "Minimum: 78\n",
            "Maximum: 95\n",
            "Mean: 87.6\n"
          ]
        }
      ]
    },
    {
      "cell_type": "code",
      "source": [
        "data_dict[\"Bart\"]"
      ],
      "metadata": {
        "colab": {
          "base_uri": "https://localhost:8080/"
        },
        "id": "V0-A729VLl2f",
        "outputId": "8079225c-7712-4873-afa4-39ce8f817d3b"
      },
      "execution_count": 68,
      "outputs": [
        {
          "output_type": "execute_result",
          "data": {
            "text/plain": [
              "92"
            ]
          },
          "metadata": {},
          "execution_count": 68
        }
      ]
    },
    {
      "cell_type": "code",
      "source": [
        "data_dict[\"Mo\"]=100"
      ],
      "metadata": {
        "id": "yVcd07RAL3Sm"
      },
      "execution_count": 69,
      "outputs": []
    },
    {
      "cell_type": "markdown",
      "source": [
        "## API CALLS"
      ],
      "metadata": {
        "id": "Op9lVur8M8NL"
      }
    },
    {
      "cell_type": "code",
      "source": [
        "import requests\n",
        "url=\"https://catfact.ninja/fact\"\n",
        "response=requests.get(url)\n",
        "data=response.json()\n",
        "data['fact']"
      ],
      "metadata": {
        "colab": {
          "base_uri": "https://localhost:8080/",
          "height": 52
        },
        "id": "gAnV6fdvM6Gf",
        "outputId": "b29baa5e-b5cf-4c19-d773-c16e222fb301"
      },
      "execution_count": 80,
      "outputs": [
        {
          "output_type": "execute_result",
          "data": {
            "text/plain": [
              "\"The cat's front paw has 5 toes, but the back paws have 4. Some cats are born with as many as 7 front toes and extra back toes (polydactl).\""
            ],
            "application/vnd.google.colaboratory.intrinsic+json": {
              "type": "string"
            }
          },
          "metadata": {},
          "execution_count": 80
        }
      ]
    },
    {
      "cell_type": "code",
      "source": [
        "import requests\n",
        "url=\"https://archive-api.open-meteo.com/v1/archive\"\n",
        "#response=requests.get(url)\n",
        "params={\n",
        "    \"latitude\":40.7128,\n",
        "    \"longitude\":-74.006,\n",
        "    \"start_date\":\"2023-12-20\",\n",
        "    \"end_date\":\"2023-12-26\",\n",
        "    \"daily\":\"temperature_2m_max\",\n",
        "    \"timezone\":\"auto\"\n",
        "}\n",
        "response=requests.get(\"https://archive-api.open-meteo.com/v1/archive\",params=params)\n",
        "data=response.json()\n",
        "data"
      ],
      "metadata": {
        "colab": {
          "base_uri": "https://localhost:8080/"
        },
        "id": "YA_VwakYO90v",
        "outputId": "9cea38bb-140b-4fa6-cc7f-ff9dc0c927cb"
      },
      "execution_count": 81,
      "outputs": [
        {
          "output_type": "execute_result",
          "data": {
            "text/plain": [
              "{'latitude': 40.738136,\n",
              " 'longitude': -74.04254,\n",
              " 'generationtime_ms': 0.06771087646484375,\n",
              " 'utc_offset_seconds': -14400,\n",
              " 'timezone': 'America/New_York',\n",
              " 'timezone_abbreviation': 'GMT-4',\n",
              " 'elevation': 32.0,\n",
              " 'daily_units': {'time': 'iso8601', 'temperature_2m_max': '°C'},\n",
              " 'daily': {'time': ['2023-12-20',\n",
              "   '2023-12-21',\n",
              "   '2023-12-22',\n",
              "   '2023-12-23',\n",
              "   '2023-12-24',\n",
              "   '2023-12-25',\n",
              "   '2023-12-26'],\n",
              "  'temperature_2m_max': [7.5, 4.3, 2.6, 5.9, 8.6, 11.5, 7.6]}}"
            ]
          },
          "metadata": {},
          "execution_count": 81
        }
      ]
    },
    {
      "cell_type": "code",
      "source": [
        "temperatures=data[\"daily\"]['temperature_2m_max']\n",
        "print(\"The Min of the Max Temp is\", min(temperatures))\n",
        "print(\"The Average Max Temp for this week was\",sum(temperatures)/len(temperatures))"
      ],
      "metadata": {
        "colab": {
          "base_uri": "https://localhost:8080/"
        },
        "id": "J8jN2JILQhZW",
        "outputId": "5c51750d-6017-4de9-ef8b-3ee8e5918e3e"
      },
      "execution_count": 86,
      "outputs": [
        {
          "output_type": "stream",
          "name": "stdout",
          "text": [
            "The Min of the Max Temp is 2.6\n",
            "The Average Max Temp for this week was 6.857142857142857\n"
          ]
        }
      ]
    }
  ]
}
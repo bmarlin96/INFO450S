{
  "nbformat": 4,
  "nbformat_minor": 0,
  "metadata": {
    "colab": {
      "provenance": [],
      "authorship_tag": "ABX9TyMOjvrMp/WdVCYcelAvUfwJ",
      "include_colab_link": true
    },
    "kernelspec": {
      "name": "python3",
      "display_name": "Python 3"
    },
    "language_info": {
      "name": "python"
    }
  },
  "cells": [
    {
      "cell_type": "markdown",
      "metadata": {
        "id": "view-in-github",
        "colab_type": "text"
      },
      "source": [
        "<a href=\"https://colab.research.google.com/github/bmarlin96/INFO450S/blob/main/INFO450SLSN5.ipynb\" target=\"_parent\"><img src=\"https://colab.research.google.com/assets/colab-badge.svg\" alt=\"Open In Colab\"/></a>"
      ]
    },
    {
      "cell_type": "markdown",
      "source": [
        "## Introduction to Functions in python"
      ],
      "metadata": {
        "id": "CKlsqNUg8iu7"
      }
    },
    {
      "cell_type": "code",
      "execution_count": 2,
      "metadata": {
        "id": "oGbGCfbv8HNR"
      },
      "outputs": [],
      "source": [
        "def greet():\n",
        "  print(\"Hello World\")"
      ]
    },
    {
      "cell_type": "code",
      "source": [
        "greet()"
      ],
      "metadata": {
        "colab": {
          "base_uri": "https://localhost:8080/"
        },
        "id": "1ibBdcV68yVg",
        "outputId": "c8041003-4f91-4d70-a917-a7c9502d55ed"
      },
      "execution_count": 3,
      "outputs": [
        {
          "output_type": "stream",
          "name": "stdout",
          "text": [
            "Hello World\n"
          ]
        }
      ]
    },
    {
      "cell_type": "code",
      "source": [
        "for i in range(5):\n",
        "  greet()"
      ],
      "metadata": {
        "colab": {
          "base_uri": "https://localhost:8080/"
        },
        "id": "qyxxwhSY9F14",
        "outputId": "6140cdc9-4ff6-42ce-b787-e4b072bf9fb3"
      },
      "execution_count": 5,
      "outputs": [
        {
          "output_type": "stream",
          "name": "stdout",
          "text": [
            "Hello World\n",
            "Hello World\n",
            "Hello World\n",
            "Hello World\n",
            "Hello World\n"
          ]
        }
      ]
    },
    {
      "cell_type": "markdown",
      "source": [
        "Built in Functions"
      ],
      "metadata": {
        "id": "yNEQ3dmI9bqU"
      }
    },
    {
      "cell_type": "code",
      "source": [
        "print(len(\"HELLO\"))\n",
        "numbers=[1,2,3]\n",
        "max(numbers)"
      ],
      "metadata": {
        "colab": {
          "base_uri": "https://localhost:8080/"
        },
        "id": "OSGzVfBB9Jwz",
        "outputId": "4d42ba5d-249c-4511-a66e-0038d475aa41"
      },
      "execution_count": 7,
      "outputs": [
        {
          "output_type": "stream",
          "name": "stdout",
          "text": [
            "5\n"
          ]
        },
        {
          "output_type": "execute_result",
          "data": {
            "text/plain": [
              "3"
            ]
          },
          "metadata": {},
          "execution_count": 7
        }
      ]
    },
    {
      "cell_type": "code",
      "source": [
        "def greet(name):\n",
        "  return (f\"Hello {name}\")"
      ],
      "metadata": {
        "id": "-edLZJBC-O6S"
      },
      "execution_count": 10,
      "outputs": []
    },
    {
      "cell_type": "code",
      "source": [
        "greet(\"Alice\")"
      ],
      "metadata": {
        "colab": {
          "base_uri": "https://localhost:8080/",
          "height": 35
        },
        "id": "37NlOwXz-fMQ",
        "outputId": "f8bca321-4882-4901-db23-9ca7aeda2e27"
      },
      "execution_count": 11,
      "outputs": [
        {
          "output_type": "execute_result",
          "data": {
            "text/plain": [
              "'Hello Alice'"
            ],
            "application/vnd.google.colaboratory.intrinsic+json": {
              "type": "string"
            }
          },
          "metadata": {},
          "execution_count": 11
        }
      ]
    },
    {
      "cell_type": "markdown",
      "source": [
        "Lambda Functions"
      ],
      "metadata": {
        "id": "-xAMRmSx-wkR"
      }
    },
    {
      "cell_type": "code",
      "source": [
        "square=lambda x:x**2"
      ],
      "metadata": {
        "id": "3q6IcVE_-vGi"
      },
      "execution_count": 12,
      "outputs": []
    },
    {
      "cell_type": "code",
      "source": [
        "square(3)"
      ],
      "metadata": {
        "colab": {
          "base_uri": "https://localhost:8080/"
        },
        "id": "hKVioVhH-6-Z",
        "outputId": "0c1adff5-6a7d-4097-f09c-f0e64e77b96b"
      },
      "execution_count": 13,
      "outputs": [
        {
          "output_type": "execute_result",
          "data": {
            "text/plain": [
              "9"
            ]
          },
          "metadata": {},
          "execution_count": 13
        }
      ]
    },
    {
      "cell_type": "markdown",
      "source": [
        "Default values in the parameters"
      ],
      "metadata": {
        "id": "UIT83c7y_xJl"
      }
    },
    {
      "cell_type": "code",
      "source": [
        "def add_numbers(a=0,b=0):\n",
        "  return a+b\n"
      ],
      "metadata": {
        "id": "aghGQw_E_Mxp"
      },
      "execution_count": 17,
      "outputs": []
    },
    {
      "cell_type": "code",
      "source": [
        "add_numbers(1,2)"
      ],
      "metadata": {
        "colab": {
          "base_uri": "https://localhost:8080/"
        },
        "id": "Qd5--XjH_lWq",
        "outputId": "d3ad1aa1-9226-466b-e298-5ffd38980e91"
      },
      "execution_count": 21,
      "outputs": [
        {
          "output_type": "execute_result",
          "data": {
            "text/plain": [
              "3"
            ]
          },
          "metadata": {},
          "execution_count": 21
        }
      ]
    },
    {
      "cell_type": "code",
      "source": [
        "for i in range(5):\n",
        "  print(add_numbers(i,i+1))"
      ],
      "metadata": {
        "colab": {
          "base_uri": "https://localhost:8080/"
        },
        "id": "EtEKS0FOAHLG",
        "outputId": "2c5efbb8-a3a6-4d01-ac04-2cefdb77673b"
      },
      "execution_count": 24,
      "outputs": [
        {
          "output_type": "stream",
          "name": "stdout",
          "text": [
            "1\n",
            "3\n",
            "5\n",
            "7\n",
            "9\n"
          ]
        }
      ]
    },
    {
      "cell_type": "markdown",
      "source": [
        "Create a function that converts a list of Celcius Temperatures to Fahrenheit\n"
      ],
      "metadata": {
        "id": "KUtZl6pFAuP0"
      }
    },
    {
      "cell_type": "markdown",
      "source": [
        "*   Define Function\n",
        "*   Pass it a parameter - list of numbers\n",
        "*   Create a blank List for future fahren. numbers\n",
        "*   loop through list of Celc. and convert to fahern. $$f=C*\\frac{9}{5}+32$$\n",
        "\n",
        "* append new number to our list\n",
        "* Return the list"
      ],
      "metadata": {
        "id": "CT8Wt441A5wU"
      }
    },
    {
      "cell_type": "markdown",
      "source": [],
      "metadata": {
        "id": "odn8dU6pBeaJ"
      }
    },
    {
      "cell_type": "code",
      "source": [
        "def celsius_to_fahrenheit(temperatures=[]):\n",
        "  temp=[] #make an empty list\n",
        "  for temperature in temperatures:\n",
        "    fahrenheit=temperature*9/5+32\n",
        "    temp.append(fahrenheit)\n",
        "  return temp\n",
        "\n"
      ],
      "metadata": {
        "id": "RQhHg4jHA4Wv"
      },
      "execution_count": 31,
      "outputs": []
    },
    {
      "cell_type": "code",
      "source": [
        "celsius_temperatures=[10,0,7,40,-5]"
      ],
      "metadata": {
        "id": "9dAUayJBCEnp"
      },
      "execution_count": 27,
      "outputs": []
    },
    {
      "cell_type": "code",
      "source": [
        "celsius_to_fahrenheit(celsius_temperatures)"
      ],
      "metadata": {
        "colab": {
          "base_uri": "https://localhost:8080/"
        },
        "id": "QqFi5JGjC-Gy",
        "outputId": "563aeadd-a55c-4aac-d60c-aa1c788f2f8e"
      },
      "execution_count": 33,
      "outputs": [
        {
          "output_type": "execute_result",
          "data": {
            "text/plain": [
              "[50.0, 32.0, 44.6, 104.0, 23.0]"
            ]
          },
          "metadata": {},
          "execution_count": 33
        }
      ]
    },
    {
      "cell_type": "markdown",
      "source": [
        "Business Revenue Function-Take price sold and quantity sold and get the revenue  $$R=P*Q$$"
      ],
      "metadata": {
        "id": "PH5aZxNaHpQK"
      }
    },
    {
      "cell_type": "markdown",
      "source": [],
      "metadata": {
        "id": "sChI7Ax8HvDf"
      }
    },
    {
      "cell_type": "code",
      "source": [
        "product_prices=[10,15,20,25,30]\n",
        "product_quantities=[100,200,150,300,250]"
      ],
      "metadata": {
        "id": "EP6II-jaHn9C"
      },
      "execution_count": 34,
      "outputs": []
    },
    {
      "cell_type": "code",
      "source": [
        "def calculate_revenue(prices, quantities):\n",
        "  revenues=[]\n",
        "  for price, quantity in zip(prices, quantities):\n",
        "    revenue=price*quantity\n",
        "    revenues.append(revenue)\n",
        "  return revenues"
      ],
      "metadata": {
        "id": "S7ngOoy3IJcd"
      },
      "execution_count": 35,
      "outputs": []
    },
    {
      "cell_type": "code",
      "source": [
        "revenues2=calculate_revenue(product_prices,product_quantities)\n",
        "sum(revenues2)"
      ],
      "metadata": {
        "colab": {
          "base_uri": "https://localhost:8080/"
        },
        "id": "UdxUH0b5JGTH",
        "outputId": "4f0abd26-43c7-47df-9ec9-97759e2da0a6"
      },
      "execution_count": 40,
      "outputs": [
        {
          "output_type": "execute_result",
          "data": {
            "text/plain": [
              "22000"
            ]
          },
          "metadata": {},
          "execution_count": 40
        }
      ]
    },
    {
      "cell_type": "markdown",
      "source": [
        "# Importing Functions\n"
      ],
      "metadata": {
        "id": "39UuucDEJqWG"
      }
    },
    {
      "cell_type": "code",
      "source": [
        "import random\n",
        "random.randint(1,6)"
      ],
      "metadata": {
        "colab": {
          "base_uri": "https://localhost:8080/"
        },
        "id": "faYwAJexJvFO",
        "outputId": "f7b8145d-fe96-4ea5-9650-1396d17d4792"
      },
      "execution_count": 90,
      "outputs": [
        {
          "output_type": "execute_result",
          "data": {
            "text/plain": [
              "6"
            ]
          },
          "metadata": {},
          "execution_count": 90
        }
      ]
    },
    {
      "cell_type": "code",
      "source": [
        "discount=[random.randint(5,20) for i in range(5)]\n",
        "discount"
      ],
      "metadata": {
        "colab": {
          "base_uri": "https://localhost:8080/"
        },
        "id": "nZv92dO7Kgh2",
        "outputId": "4c52eda4-344f-4911-dcb2-14c91bfdebfb"
      },
      "execution_count": 92,
      "outputs": [
        {
          "output_type": "execute_result",
          "data": {
            "text/plain": [
              "[16, 15, 6, 11, 13]"
            ]
          },
          "metadata": {},
          "execution_count": 92
        }
      ]
    },
    {
      "cell_type": "markdown",
      "source": [
        "D&D Die game - lets the user pick the die size"
      ],
      "metadata": {
        "id": "gV7VAXPGLLL9"
      }
    },
    {
      "cell_type": "code",
      "source": [
        "def fun_games(sides):\n",
        "  import random\n",
        "  return(random.randint(1,sides))"
      ],
      "metadata": {
        "id": "ESnUB1I4LK2w"
      },
      "execution_count": 101,
      "outputs": []
    },
    {
      "cell_type": "code",
      "source": [
        "fun_games(200)"
      ],
      "metadata": {
        "colab": {
          "base_uri": "https://localhost:8080/"
        },
        "id": "jAuh2XS-LhEe",
        "outputId": "811b2126-4f1b-4bca-affa-6d0e0059d8fe"
      },
      "execution_count": 104,
      "outputs": [
        {
          "output_type": "execute_result",
          "data": {
            "text/plain": [
              "49"
            ]
          },
          "metadata": {},
          "execution_count": 104
        }
      ]
    },
    {
      "cell_type": "code",
      "source": [
        "my_collection=[6,20,27,75,3000]\n",
        "my_roll=[]\n",
        "for die in my_collection:\n",
        "  print(fun_games(die))"
      ],
      "metadata": {
        "colab": {
          "base_uri": "https://localhost:8080/"
        },
        "id": "jlJ_ranbLx5_",
        "outputId": "6664606d-d3c7-41c5-f990-a6991e700b50"
      },
      "execution_count": 111,
      "outputs": [
        {
          "output_type": "stream",
          "name": "stdout",
          "text": [
            "6\n",
            "5\n",
            "11\n",
            "3\n",
            "1747\n"
          ]
        }
      ]
    },
    {
      "cell_type": "code",
      "source": [
        "from random_games import fun_games1"
      ],
      "metadata": {
        "id": "7u7UBaqZNjKn"
      },
      "execution_count": 112,
      "outputs": []
    },
    {
      "cell_type": "code",
      "source": [
        "fun_games1(20)"
      ],
      "metadata": {
        "colab": {
          "base_uri": "https://localhost:8080/"
        },
        "id": "TImZQsq8Nr7d",
        "outputId": "2c670781-9282-4176-df8a-38226994a25f"
      },
      "execution_count": 114,
      "outputs": [
        {
          "output_type": "execute_result",
          "data": {
            "text/plain": [
              "14"
            ]
          },
          "metadata": {},
          "execution_count": 114
        }
      ]
    },
    {
      "cell_type": "markdown",
      "source": [
        "Apply Bonus and Tax"
      ],
      "metadata": {
        "id": "OXvRdsrQOJGD"
      }
    },
    {
      "cell_type": "code",
      "source": [
        "#If the person makes more than 50K apply a bonus\n",
        "\n",
        "def calculate_bonus(salary):\n",
        "  if salary>50000:\n",
        "    return salary*1.10 # 10% increase\n",
        "  return salary\n",
        "\n",
        "# apply 20% tax to entire salary\n",
        "\n",
        "def apply_tax(salary):\n",
        "  return salary*0.80\n",
        "\n",
        "def main():\n",
        "  salary=float(input(\"Enter your Salary\")) #get salary\n",
        "\n",
        "  salary_with_bonus=calculate_bonus(salary) #add the bonus\n",
        "\n",
        "  net_salary=apply_tax(salary_with_bonus) #apply tax\n",
        "\n",
        "  print(f\"your final take home is {net_salary}\")"
      ],
      "metadata": {
        "id": "kHtYolYfOBAt"
      },
      "execution_count": 118,
      "outputs": []
    },
    {
      "cell_type": "code",
      "source": [
        "main()"
      ],
      "metadata": {
        "colab": {
          "base_uri": "https://localhost:8080/"
        },
        "id": "HEsRnpYBPDC8",
        "outputId": "fd143355-f2a3-4350-8169-dbe0b9515d40"
      },
      "execution_count": 119,
      "outputs": [
        {
          "output_type": "stream",
          "name": "stdout",
          "text": [
            "Enter your Salary75000\n",
            "your final take home is 66000.0\n"
          ]
        }
      ]
    },
    {
      "cell_type": "code",
      "source": [],
      "metadata": {
        "colab": {
          "base_uri": "https://localhost:8080/"
        },
        "id": "XPttsV_gPF_N",
        "outputId": "4416cba7-b58a-445b-94e6-909afb94bbd3"
      },
      "execution_count": 117,
      "outputs": [
        {
          "output_type": "execute_result",
          "data": {
            "text/plain": [
              "52800.0"
            ]
          },
          "metadata": {},
          "execution_count": 117
        }
      ]
    }
  ]
}
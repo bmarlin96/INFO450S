{
  "nbformat": 4,
  "nbformat_minor": 0,
  "metadata": {
    "colab": {
      "provenance": [],
      "authorship_tag": "ABX9TyOaAcFnXmXphkFnFdECyAAU"
    },
    "kernelspec": {
      "name": "python3",
      "display_name": "Python 3"
    },
    "language_info": {
      "name": "python"
    }
  },
  "cells": [
    {
      "cell_type": "markdown",
      "source": [
        "***This is a 10 point assignment***. Run each code cell using the loan_data.csv file.  As you run the code and see the output, thoughfully answer the questions.  This is meant to be a review of inferential statistics, so if you do not understand something, take a few minutes and look over the notes or review the statistics.  You should have learned all of the math behind this - I just want you to see how we do it in python. When you are done, submit this with your homework (seperate files) as a pdf using the course standard."
      ],
      "metadata": {
        "id": "OBFEufKLkiXb"
      }
    },
    {
      "cell_type": "markdown",
      "source": [
        "0. ***Write your name here***"
      ],
      "metadata": {
        "id": "MLlMsTLmln7M"
      }
    },
    {
      "cell_type": "code",
      "execution_count": 30,
      "metadata": {
        "id": "YbTpscOIV_zL"
      },
      "outputs": [],
      "source": [
        "import pandas as pd\n",
        "import scipy.stats as stats"
      ]
    },
    {
      "cell_type": "markdown",
      "source": [
        "Here we are going to look at a random sample of about 10,000 credit scores.  We want to make an inference about all credit scores in America."
      ],
      "metadata": {
        "id": "LIwWL6lpiMIH"
      }
    },
    {
      "cell_type": "markdown",
      "source": [
        "Upload the file called loan_data"
      ],
      "metadata": {
        "id": "BjJXj2J-jFh9"
      }
    },
    {
      "cell_type": "code",
      "source": [
        "df=pd.read_csv('loan_data.csv')"
      ],
      "metadata": {
        "id": "TpAGrYOCWYOA"
      },
      "execution_count": 31,
      "outputs": []
    },
    {
      "cell_type": "code",
      "source": [
        "df.head()\n"
      ],
      "metadata": {
        "id": "U9vTnWwkWc7M"
      },
      "execution_count": null,
      "outputs": []
    },
    {
      "cell_type": "markdown",
      "source": [
        "Make the box plot and answer the question"
      ],
      "metadata": {
        "id": "0V_dPAsSjJ_k"
      }
    },
    {
      "cell_type": "code",
      "source": [
        "df.boxplot('fico')"
      ],
      "metadata": {
        "collapsed": true,
        "id": "OsYkXOOfhw7W"
      },
      "execution_count": null,
      "outputs": []
    },
    {
      "cell_type": "markdown",
      "source": [
        "1. Based on the boxplot what do you think the population mean is?"
      ],
      "metadata": {
        "id": "ulUdV8jHiDEy"
      }
    },
    {
      "cell_type": "markdown",
      "source": [
        "## Run the below code and answer the questions"
      ],
      "metadata": {
        "id": "SDKIXfkMjDde"
      }
    },
    {
      "cell_type": "code",
      "source": [
        "import numpy as np\n",
        "import pandas as pd\n",
        "import matplotlib.pyplot as plt\n",
        "\n",
        "\n",
        "# Histogram of the original FICO scores\n",
        "plt.figure(figsize=(12, 5))\n",
        "\n",
        "plt.subplot(1, 2, 1)\n",
        "plt.hist(df['fico'], bins=30, color='skyblue', edgecolor='black')\n",
        "plt.title('Distribution of FICO Scores')\n",
        "plt.xlabel('FICO Score')\n",
        "plt.ylabel('Frequency')\n",
        "\n",
        "# Central Limit Theorem: simulate sampling distribution of the mean\n",
        "np.random.seed(0)  # For reproducibility\n",
        "sample_means = []\n",
        "sample_size = 30\n",
        "num_samples = 1000\n",
        "\n",
        "for i in range(num_samples):\n",
        "    sample = df['fico'].sample(sample_size, replace=True)\n",
        "    sample_means.append(sample.mean())\n",
        "\n",
        "plt.subplot(1, 2, 2)\n",
        "plt.hist(sample_means, bins=30, color='lightgreen', edgecolor='black')\n",
        "plt.title(f'Distribution of Sample Means (n={sample_size})')\n",
        "plt.xlabel('Sample Mean')\n",
        "plt.ylabel('Frequency')\n",
        "\n",
        "plt.tight_layout()\n",
        "plt.show()"
      ],
      "metadata": {
        "id": "_qcYrdObWfsE"
      },
      "execution_count": null,
      "outputs": []
    },
    {
      "cell_type": "markdown",
      "source": [
        "2. Here I want you to describe what the histogram on the left side is showing (about what is the population mean, is the data really spread out)-no math just look at the data and think and write about it:"
      ],
      "metadata": {
        "id": "yyyYwqSqXlFP"
      }
    },
    {
      "cell_type": "markdown",
      "source": [
        "3. The histogram on the right is the result of picking 30 different fico scores at random from the data set - and doing it 1000 times.  Look at the shape? What distribution to we see?  Compare the left and right values at the tails of the histogram.  What are the differences - which histogram has a smaller range?  Explain how this demonstrates the Central Limit Thereom."
      ],
      "metadata": {
        "id": "6WsjxCxAX4I2"
      }
    },
    {
      "cell_type": "markdown",
      "source": [
        "## Run the below code and answer the questions"
      ],
      "metadata": {
        "id": "qjsSx1YRi7E8"
      }
    },
    {
      "cell_type": "code",
      "source": [
        "import numpy as np\n",
        "import scipy.stats as stats\n",
        "\n",
        "fico_scores = df['fico']\n",
        "\n",
        "n = len(fico_scores) # this is how many scores we have\n",
        "sample_mean = np.mean(fico_scores)\n",
        "sample_std = np.std(fico_scores, ddof=1)  # Sample standard deviation (ddof=1 means n-1)\n",
        "\n",
        "# Standard error\n",
        "standard_error = sample_std / np.sqrt(n)\n",
        "\n",
        "# 95% confidence interval using t-distribution\n",
        "confidence_level = 0.95\n",
        "t_crit = stats.t.ppf((1 + confidence_level) / 2, df=n - 1)\n",
        "\n",
        "margin_of_error = t_crit * standard_error\n",
        "ci_lower = sample_mean - margin_of_error\n",
        "ci_upper = sample_mean + margin_of_error\n",
        "\n",
        "print(f\"95% Confidence Interval for the mean FICO score: ({ci_lower:.3f}, {ci_upper:.3f})\")\n"
      ],
      "metadata": {
        "id": "G853w92iYdpY"
      },
      "execution_count": null,
      "outputs": []
    },
    {
      "cell_type": "markdown",
      "source": [
        "4. Remembering that this is a confidence interval about the population mean, what does this confidence interval tell us?  If we filtered on a subset of the population - for example, people from Nebraska and this sample of (3000 people) had a fico credit score of 699 would you be concerned based on the above confidence interval? Why?"
      ],
      "metadata": {
        "id": "cBd7aNbdgnZV"
      }
    },
    {
      "cell_type": "markdown",
      "source": [],
      "metadata": {
        "id": "h3gI_ZdNZ6B0"
      }
    },
    {
      "cell_type": "markdown",
      "source": [
        "## Run the below code for hypothesis testing and answer the questions"
      ],
      "metadata": {
        "id": "naqRDDawjRHE"
      }
    },
    {
      "cell_type": "markdown",
      "source": [
        "$$\n",
        "H_0: \\mu = 712 \\quad \\text{vs.} \\quad H_1: \\mu \\ne 712\n",
        "$$"
      ],
      "metadata": {
        "id": "3p6TknhOfCCH"
      }
    },
    {
      "cell_type": "code",
      "source": [
        "stats.ttest_1samp (fico_scores,712, alternative = 'two-sided')"
      ],
      "metadata": {
        "id": "9m4DlI3zbLxd"
      },
      "execution_count": null,
      "outputs": []
    },
    {
      "cell_type": "markdown",
      "source": [
        "4. In your own words, focused on the p-value, what does this mean?"
      ],
      "metadata": {
        "id": "uEd7xLMPgGQB"
      }
    },
    {
      "cell_type": "markdown",
      "source": [
        "$$\n",
        "H_0: \\mu = 712 \\quad \\text{vs.} \\quad H_1: \\mu < 712\n",
        "$$"
      ],
      "metadata": {
        "id": "Y76HzcZMfL1D"
      }
    },
    {
      "cell_type": "code",
      "source": [
        "stats.ttest_1samp (fico_scores,712, alternative = 'less')"
      ],
      "metadata": {
        "id": "CFsldQVre7V7"
      },
      "execution_count": null,
      "outputs": []
    },
    {
      "cell_type": "markdown",
      "source": [
        "5. In your own words, focused on the p-value, what does this mean?\n"
      ],
      "metadata": {
        "id": "jPxhs_hkgQcD"
      }
    },
    {
      "cell_type": "markdown",
      "source": [
        "$$\n",
        "H_0: \\mu = 712 \\quad \\text{vs.} \\quad H_1: \\mu > 712\n",
        "$$"
      ],
      "metadata": {
        "id": "Tqruwm-pfZMv"
      }
    },
    {
      "cell_type": "code",
      "source": [
        "stats.ttest_1samp (fico_scores,712, alternative = 'greater')"
      ],
      "metadata": {
        "id": "aehYmVfFe8w2"
      },
      "execution_count": null,
      "outputs": []
    },
    {
      "cell_type": "markdown",
      "source": [
        "6. In your own words, focused on the p-value, what does this mean?\n"
      ],
      "metadata": {
        "id": "e_u_VsNsgSys"
      }
    },
    {
      "cell_type": "markdown",
      "source": [],
      "metadata": {
        "id": "Oo2SEXLybLS9"
      }
    }
  ]
}
